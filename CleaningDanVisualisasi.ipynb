{
 "cells": [
  {
   "cell_type": "markdown",
   "id": "a3e61766-1595-4402-87d4-473ca83be14f",
   "metadata": {
    "jp-MarkdownHeadingCollapsed": true
   },
   "source": [
    "# <b><font color=\"#ff7000\" letter-spacing= \"2px\" size=\"5\">CLEANING DATA </span></b>"
   ]
  },
  {
   "cell_type": "markdown",
   "id": "cf930e79-1226-40ea-b144-311f8c26b36d",
   "metadata": {},
   "source": [
    "### 1. Inisialisasi sesi spark dan membuat data frame"
   ]
  },
  {
   "cell_type": "code",
   "execution_count": 1,
   "id": "be343374-6c8b-4d08-9b92-bea77aae57e5",
   "metadata": {},
   "outputs": [
    {
     "name": "stderr",
     "output_type": "stream",
     "text": [
      "                                                                                \r"
     ]
    }
   ],
   "source": [
    "from pyspark.sql import SparkSession\n",
    "\n",
    "# Inisialisasi Spark Session\n",
    "spark = SparkSession.builder.appName(\"Analisis dan Visualisasi\").getOrCreate()\n",
    "\n",
    "# Baca file CSV menjadi DataFrame\n",
    "spark_df = spark.read.csv('reviews.csv', header=True, inferSchema=True)"
   ]
  },
  {
   "cell_type": "markdown",
   "id": "e52ba56a-21b4-4ca0-b61a-06207e082c21",
   "metadata": {},
   "source": [
    "### 2. Lihat jumlah baris dan kolom</font>"
   ]
  },
  {
   "cell_type": "code",
   "execution_count": 2,
   "id": "9223fcf2-61b7-4893-8182-0360ddd9722c",
   "metadata": {},
   "outputs": [
    {
     "name": "stderr",
     "output_type": "stream",
     "text": [
      "[Stage 2:>                                                          (0 + 2) / 2]\r"
     ]
    },
    {
     "name": "stdout",
     "output_type": "stream",
     "text": [
      "Jumlah baris: 941512\n",
      "Kolom yang tersedia: 11\n"
     ]
    },
    {
     "name": "stderr",
     "output_type": "stream",
     "text": [
      "                                                                                \r"
     ]
    }
   ],
   "source": [
    "print(f\"Jumlah baris: {spark_df.count()}\")\n",
    "print(f\"Kolom yang tersedia: {len(spark_df.columns)}\")"
   ]
  },
  {
   "cell_type": "markdown",
   "id": "05f92871-7b9b-4a16-9cac-f86fbbc13219",
   "metadata": {},
   "source": [
    "### 3. Lihat skema data frame"
   ]
  },
  {
   "cell_type": "code",
   "execution_count": 3,
   "id": "0ab6e905-ce44-4fd2-b54a-cd5b0021f876",
   "metadata": {},
   "outputs": [
    {
     "name": "stdout",
     "output_type": "stream",
     "text": [
      "root\n",
      " |-- appVersion: string (nullable = true)\n",
      " |-- at: string (nullable = true)\n",
      " |-- content: string (nullable = true)\n",
      " |-- repliedAt: string (nullable = true)\n",
      " |-- replyContent: string (nullable = true)\n",
      " |-- reviewCreatedVersion: string (nullable = true)\n",
      " |-- reviewId: string (nullable = true)\n",
      " |-- score: string (nullable = true)\n",
      " |-- thumbsUpCount: string (nullable = true)\n",
      " |-- userImage: string (nullable = true)\n",
      " |-- userName: string (nullable = true)\n",
      "\n"
     ]
    }
   ],
   "source": [
    "# Tampilkan skema DataFrame\n",
    "spark_df.printSchema()"
   ]
  },
  {
   "cell_type": "markdown",
   "id": "74ea53cc-ef82-4dfa-b273-94a10a82fe10",
   "metadata": {},
   "source": [
    "### 4. Konversi ke tipe data yang sesuai"
   ]
  },
  {
   "cell_type": "code",
   "execution_count": 4,
   "id": "38257fdc-e7f3-410c-ab59-abf147048fc8",
   "metadata": {},
   "outputs": [
    {
     "name": "stdout",
     "output_type": "stream",
     "text": [
      "root\n",
      " |-- appVersion: string (nullable = true)\n",
      " |-- at: string (nullable = true)\n",
      " |-- content: string (nullable = true)\n",
      " |-- repliedAt: string (nullable = true)\n",
      " |-- replyContent: string (nullable = true)\n",
      " |-- reviewCreatedVersion: string (nullable = true)\n",
      " |-- reviewId: string (nullable = true)\n",
      " |-- score: integer (nullable = true)\n",
      " |-- thumbsUpCount: integer (nullable = true)\n",
      " |-- userImage: string (nullable = true)\n",
      " |-- userName: string (nullable = true)\n",
      "\n"
     ]
    }
   ],
   "source": [
    "from pyspark.sql.functions import col\n",
    "\n",
    "# Konversi kolom ke tipe integer\n",
    "spark_df = spark_df.withColumn(\"score\", col(\"score\").cast(\"integer\")) \\\n",
    "                   .withColumn(\"thumbsUpCount\", col(\"thumbsUpCount\").cast(\"integer\"))\n",
    "\n",
    "# Periksa skema setelah konversi\n",
    "spark_df.printSchema()"
   ]
  },
  {
   "cell_type": "markdown",
   "id": "92c60b7d-5c35-4459-a0c5-bac355875158",
   "metadata": {},
   "source": [
    "### 5. Menghapus Kolom yang Tidak Dibutuhkan"
   ]
  },
  {
   "cell_type": "code",
   "execution_count": 5,
   "id": "cbef777b-66d7-4ad7-a5ee-94df0f622e37",
   "metadata": {},
   "outputs": [
    {
     "name": "stdout",
     "output_type": "stream",
     "text": [
      "Kolom yang tersisa: 7 \n",
      " ['appVersion', 'at', 'content', 'reviewCreatedVersion', 'reviewId', 'score', 'thumbsUpCount']\n"
     ]
    }
   ],
   "source": [
    "# Drop kolom yang tidak dibutuhkan\n",
    "spark_df = spark_df.drop(\"userImage\", \"userName\", \"repliedAt\", \"replyContent\")\n",
    "\n",
    "# Tampilkan kolom yang tersisa\n",
    "print(f\"Kolom yang tersisa: {len(spark_df.columns)} \\n {spark_df.columns}\")"
   ]
  },
  {
   "cell_type": "markdown",
   "id": "242db493-5143-4782-9385-11ab0c1fbb82",
   "metadata": {},
   "source": [
    "### 6. Cek Missing values"
   ]
  },
  {
   "cell_type": "code",
   "execution_count": 6,
   "id": "6b636438-cd06-4107-bbe0-71c39b08a67b",
   "metadata": {},
   "outputs": [
    {
     "name": "stderr",
     "output_type": "stream",
     "text": [
      "[Stage 5:=============================>                             (1 + 1) / 2]\r"
     ]
    },
    {
     "name": "stdout",
     "output_type": "stream",
     "text": [
      "+----------+----+-------+--------------------+--------+-----+-------------+\n",
      "|appVersion|  at|content|reviewCreatedVersion|reviewId|score|thumbsUpCount|\n",
      "+----------+----+-------+--------------------+--------+-----+-------------+\n",
      "|    210769|9648|   8840|              225678|   16612|24103|        24361|\n",
      "+----------+----+-------+--------------------+--------+-----+-------------+\n",
      "\n"
     ]
    },
    {
     "name": "stderr",
     "output_type": "stream",
     "text": [
      "                                                                                \r"
     ]
    }
   ],
   "source": [
    "# Cek jumlah nilai kosong di setiap kolom\n",
    "from pyspark.sql.functions import isnan, when, count\n",
    "\n",
    "spark_df.select([count(when(col(c).isNull() | isnan(col(c)), c)).alias(c) for c in spark_df.columns]).show()"
   ]
  },
  {
   "cell_type": "markdown",
   "id": "6f54decf-78bb-4c17-906d-f32765d58f24",
   "metadata": {},
   "source": [
    "### 7. Penanganan missing values"
   ]
  },
  {
   "cell_type": "markdown",
   "id": "452ababa-1f93-408e-983f-2dec2ba38cf3",
   "metadata": {},
   "source": [
    "#### (a) Drop Rows dengan Missing Values"
   ]
  },
  {
   "cell_type": "code",
   "execution_count": 7,
   "id": "2363fc4e-b95a-4edf-84ab-91bcc2894543",
   "metadata": {},
   "outputs": [
    {
     "name": "stderr",
     "output_type": "stream",
     "text": [
      "                                                                                \r"
     ]
    },
    {
     "name": "stdout",
     "output_type": "stream",
     "text": [
      "Jumlah baris sebelum dihapus: 941512\n"
     ]
    },
    {
     "name": "stderr",
     "output_type": "stream",
     "text": [
      "[Stage 11:>                                                         (0 + 2) / 2]\r"
     ]
    },
    {
     "name": "stdout",
     "output_type": "stream",
     "text": [
      "Jumlah baris setelah dihapus: 917403\n"
     ]
    },
    {
     "name": "stderr",
     "output_type": "stream",
     "text": [
      "                                                                                \r"
     ]
    }
   ],
   "source": [
    "# Drop baris dengan missing values di kolom score atau content\n",
    "spark_df_cleaned = spark_df.dropna(subset=[\"score\", \"content\"])\n",
    "\n",
    "# Periksa kembali jumlah baris setelah dropping\n",
    "print(f\"Jumlah baris sebelum dihapus: {spark_df.count()}\")\n",
    "print(f\"Jumlah baris setelah dihapus: {spark_df_cleaned.count()}\")"
   ]
  },
  {
   "cell_type": "markdown",
   "id": "ffd5277a-ca30-41b4-a09d-37b4c72a7cf3",
   "metadata": {},
   "source": [
    "#### (b) Imputasi Nilai Kosong"
   ]
  },
  {
   "cell_type": "code",
   "execution_count": 8,
   "id": "433747c5-7bab-4a32-98ca-cf6bbd8fa5ae",
   "metadata": {},
   "outputs": [],
   "source": [
    "from pyspark.sql.functions import lit\n",
    "\n",
    "# Ganti nilai kosong di thumbsUpCount dengan 0, dan di reviewCreatedVersion dengan \"unknown\"\n",
    "spark_df_cleaned = spark_df_cleaned.fillna({\n",
    "    \"thumbsUpCount\": 0,\n",
    "    \"reviewCreatedVersion\": \"unknown\",\n",
    "    \"appVersion\": \"unknown\"\n",
    "})"
   ]
  },
  {
   "cell_type": "code",
   "execution_count": 9,
   "id": "7f84b9cb-b16f-4f24-8f38-90316258f16b",
   "metadata": {},
   "outputs": [
    {
     "name": "stderr",
     "output_type": "stream",
     "text": [
      "                                                                                \r"
     ]
    },
    {
     "name": "stdout",
     "output_type": "stream",
     "text": [
      "Jumlah baris setelah pembersihan: 917403\n"
     ]
    },
    {
     "name": "stderr",
     "output_type": "stream",
     "text": [
      "[Stage 17:>                                                         (0 + 2) / 2]\r"
     ]
    },
    {
     "name": "stdout",
     "output_type": "stream",
     "text": [
      "+----------+---+-------+--------------------+--------+-----+-------------+\n",
      "|appVersion| at|content|reviewCreatedVersion|reviewId|score|thumbsUpCount|\n",
      "+----------+---+-------+--------------------+--------+-----+-------------+\n",
      "|         0|  0|      0|                   0|       0|    0|            0|\n",
      "+----------+---+-------+--------------------+--------+-----+-------------+\n",
      "\n"
     ]
    },
    {
     "name": "stderr",
     "output_type": "stream",
     "text": [
      "                                                                                \r"
     ]
    }
   ],
   "source": [
    "# Cek ulang jumlah baris dan nilai kosong\n",
    "print(f\"Jumlah baris setelah pembersihan: {spark_df_cleaned.count()}\")\n",
    "spark_df_cleaned.select([count(when(col(c).isNull(), c)).alias(c) for c in spark_df_cleaned.columns]).show()"
   ]
  },
  {
   "cell_type": "markdown",
   "id": "91fb475e-9810-4305-9bc2-ec3df40d6df2",
   "metadata": {},
   "source": [
    "#### (c) Melihat skema"
   ]
  },
  {
   "cell_type": "code",
   "execution_count": 10,
   "id": "cbc2ea04-6e8d-4991-bd72-737bd704c4ad",
   "metadata": {},
   "outputs": [
    {
     "name": "stdout",
     "output_type": "stream",
     "text": [
      "root\n",
      " |-- appVersion: string (nullable = false)\n",
      " |-- at: string (nullable = true)\n",
      " |-- content: string (nullable = true)\n",
      " |-- reviewCreatedVersion: string (nullable = false)\n",
      " |-- reviewId: string (nullable = true)\n",
      " |-- score: integer (nullable = true)\n",
      " |-- thumbsUpCount: integer (nullable = false)\n",
      "\n"
     ]
    }
   ],
   "source": [
    "spark_df_cleaned = spark_df_cleaned.withColumn(\"score\", col(\"score\").cast(\"int\"))\n",
    "spark_df_cleaned = spark_df_cleaned.withColumn(\"thumbsUpCount\", col(\"thumbsUpCount\").cast(\"int\"))\n",
    "spark_df_cleaned.printSchema()"
   ]
  },
  {
   "cell_type": "markdown",
   "id": "db17d24f-510d-4306-9dad-b06d3e604762",
   "metadata": {},
   "source": [
    "### 8. Analisis Distribusi Skor Review</font>"
   ]
  },
  {
   "cell_type": "markdown",
   "id": "406db675-cf7e-42ef-9520-e3d60fb325aa",
   "metadata": {},
   "source": [
    "<font face=\"TimesNewRoman\">Cek distribusi skor (kolom ``score``) untuk memahami sentimen pengguna"
   ]
  },
  {
   "cell_type": "code",
   "execution_count": 11,
   "id": "69718990-0685-4dc6-bc1e-cbb3b3a20834",
   "metadata": {},
   "outputs": [
    {
     "name": "stderr",
     "output_type": "stream",
     "text": [
      "[Stage 20:>                                                         (0 + 2) / 2]\r"
     ]
    },
    {
     "name": "stdout",
     "output_type": "stream",
     "text": [
      "+-----+------+\n",
      "|score| count|\n",
      "+-----+------+\n",
      "|    0|   171|\n",
      "|    1|209316|\n",
      "|    2| 28562|\n",
      "|    3| 36142|\n",
      "|    4| 72010|\n",
      "|    5|571195|\n",
      "|   11|     1|\n",
      "|   14|     1|\n",
      "|   16|     1|\n",
      "|   24|     1|\n",
      "|  279|     3|\n",
      "+-----+------+\n",
      "\n"
     ]
    },
    {
     "name": "stderr",
     "output_type": "stream",
     "text": [
      "                                                                                \r"
     ]
    }
   ],
   "source": [
    "spark_df_cleaned.groupBy(\"score\").count().orderBy(\"score\").show()"
   ]
  },
  {
   "cell_type": "markdown",
   "id": "c0125816-264b-4c9f-888e-741399330cb6",
   "metadata": {},
   "source": [
    "> ## <font face=\"TimesNewRoman\">Anomali (outlier)\n",
    "> <font face=\"TimesNewRoman\">Berdasarkan hasil diatas, ada keanehan dimana nilai skor yang ditampilkan tidak sesuai dengan data yang seharusnya dimana range nya diantara 1 sampai 5"
   ]
  },
  {
   "cell_type": "markdown",
   "id": "327fbe5a-8187-46d0-94b4-192fee2083ed",
   "metadata": {},
   "source": [
    "### 9. Filter data berdasarkan score"
   ]
  },
  {
   "cell_type": "code",
   "execution_count": 12,
   "id": "da74e63d-4536-4300-bfe8-6b761841baf9",
   "metadata": {},
   "outputs": [
    {
     "name": "stderr",
     "output_type": "stream",
     "text": [
      "                                                                                \r"
     ]
    },
    {
     "name": "stdout",
     "output_type": "stream",
     "text": [
      "Jumlah review dengan skor dibawah satu berjumlah 171\n"
     ]
    },
    {
     "name": "stderr",
     "output_type": "stream",
     "text": [
      "                                                                                \r"
     ]
    },
    {
     "name": "stdout",
     "output_type": "stream",
     "text": [
      "+--------------------+--------------------+--------------------+--------------------+--------+-----+-------------+\n",
      "|          appVersion|                  at|             content|reviewCreatedVersion|reviewId|score|thumbsUpCount|\n",
      "+--------------------+--------------------+--------------------+--------------------+--------+-----+-------------+\n",
      "|Terima kasih atas...| sudah kami catat...| jangan ragu untu...|c8326bb4-6e3f-4ae...|       5|    0|            0|\n",
      "|Terima kasih atas...| sudah kami catat...| jangan ragu untu...|5b167768-4420-412...|       1|    0|            0|\n",
      "|Terima kasih atas...| sudah kami catat...| jangan ragu untu...|d5aac406-3144-4dd...|       5|    0|            0|\n",
      "|Terima kasih atas...| sudah kami catat...| jangan ragu untu...|34ce0ae4-aa40-443...|       1|    0|            0|\n",
      "|Terima kasih atas...| sudah kami catat...| jangan ragu untu...|0ffc771c-5389-4fb...|       5|    0|            0|\n",
      "+--------------------+--------------------+--------------------+--------------------+--------+-----+-------------+\n",
      "only showing top 5 rows\n",
      "\n"
     ]
    },
    {
     "name": "stderr",
     "output_type": "stream",
     "text": [
      "                                                                                \r"
     ]
    },
    {
     "name": "stdout",
     "output_type": "stream",
     "text": [
      "Jumlah review dengan skor diatas lima berjumlah 7\n"
     ]
    },
    {
     "name": "stderr",
     "output_type": "stream",
     "text": [
      "[Stage 31:>                                                         (0 + 1) / 1]\r"
     ]
    },
    {
     "name": "stdout",
     "output_type": "stream",
     "text": [
      "+--------------------+--------------------+--------------------+--------------------+--------+-----+-------------+\n",
      "|          appVersion|                  at|             content|reviewCreatedVersion|reviewId|score|thumbsUpCount|\n",
      "+--------------------+--------------------+--------------------+--------------------+--------+-----+-------------+\n",
      "|Terima kasih atas...| sudah kami catat...| jangan ragu untu...|f608e067-c8ea-415...|       1|   11|            0|\n",
      "|Terima kasih atas...| sudah kami catat...| jangan ragu untu...|123617ac-94d7-49e...|       3|   24|            0|\n",
      "|Kami telah memper...| silakan untuk ma...| silahkan hubungi...|ee5e31b3-c3ff-4eb...|       1|   14|            0|\n",
      "|Terima kasih atas...| sudah kami catat...| jangan ragu untu...|58fc2588-2695-49c...|       1|   16|            0|\n",
      "|Terima kasih atas...| sudah kami catat...| jangan ragu untu...|ba103f06-17b8-4a7...|       2|  279|            0|\n",
      "+--------------------+--------------------+--------------------+--------------------+--------+-----+-------------+\n",
      "only showing top 5 rows\n",
      "\n"
     ]
    },
    {
     "name": "stderr",
     "output_type": "stream",
     "text": [
      "                                                                                \r"
     ]
    }
   ],
   "source": [
    "# Filter review dengan skor dibawah 1 dan diatas lima\n",
    "score_dibawah_satu = spark_df_cleaned.filter(col(\"score\") < 1)\n",
    "score_diatas_lima = spark_df_cleaned.filter(col(\"score\") > 5)\n",
    "\n",
    "# Tampilkan beberapa baris\n",
    "print(f\"Jumlah review dengan skor dibawah satu berjumlah {score_dibawah_satu.count()}\")\n",
    "score_dibawah_satu.show(5)\n",
    "\n",
    "print(f\"Jumlah review dengan skor diatas lima berjumlah {score_diatas_lima.count()}\")\n",
    "score_diatas_lima.show(5)"
   ]
  },
  {
   "cell_type": "markdown",
   "id": "bbc97b0a-8411-413d-a025-fda6c9e3c16f",
   "metadata": {},
   "source": [
    "### 10. Penanganan outlier"
   ]
  },
  {
   "cell_type": "code",
   "execution_count": 13,
   "id": "c2d7a008-c753-4bf6-8816-aca6fc112c50",
   "metadata": {},
   "outputs": [],
   "source": [
    "spark_df_cleaned = spark_df_cleaned.filter((col(\"score\") >= 1) & (col(\"score\") <= 5))"
   ]
  },
  {
   "cell_type": "code",
   "execution_count": 14,
   "id": "5681d415-ec89-43d8-a891-507373931913",
   "metadata": {},
   "outputs": [
    {
     "name": "stderr",
     "output_type": "stream",
     "text": [
      "                                                                                \r"
     ]
    },
    {
     "name": "stdout",
     "output_type": "stream",
     "text": [
      "Jumlah review dengan skor dibawah satu berjumlah 0\n"
     ]
    },
    {
     "name": "stderr",
     "output_type": "stream",
     "text": [
      "                                                                                \r"
     ]
    },
    {
     "name": "stdout",
     "output_type": "stream",
     "text": [
      "+----------+---+-------+--------------------+--------+-----+-------------+\n",
      "|appVersion| at|content|reviewCreatedVersion|reviewId|score|thumbsUpCount|\n",
      "+----------+---+-------+--------------------+--------+-----+-------------+\n",
      "+----------+---+-------+--------------------+--------+-----+-------------+\n",
      "\n"
     ]
    },
    {
     "name": "stderr",
     "output_type": "stream",
     "text": [
      "                                                                                \r"
     ]
    },
    {
     "name": "stdout",
     "output_type": "stream",
     "text": [
      "Jumlah review dengan skor diatas lima berjumlah 0\n"
     ]
    },
    {
     "name": "stderr",
     "output_type": "stream",
     "text": [
      "[Stage 41:>                                                         (0 + 1) / 1]\r"
     ]
    },
    {
     "name": "stdout",
     "output_type": "stream",
     "text": [
      "+----------+---+-------+--------------------+--------+-----+-------------+\n",
      "|appVersion| at|content|reviewCreatedVersion|reviewId|score|thumbsUpCount|\n",
      "+----------+---+-------+--------------------+--------+-----+-------------+\n",
      "+----------+---+-------+--------------------+--------+-----+-------------+\n",
      "\n"
     ]
    },
    {
     "name": "stderr",
     "output_type": "stream",
     "text": [
      "                                                                                \r"
     ]
    }
   ],
   "source": [
    "# Filter review dengan skor dibawah 1 dan diatas lima\n",
    "score_dibawah_satu = spark_df_cleaned.filter(col(\"score\") < 1)\n",
    "score_diatas_lima = spark_df_cleaned.filter(col(\"score\") > 5)\n",
    "\n",
    "# Tampilkan beberapa baris\n",
    "print(f\"Jumlah review dengan skor dibawah satu berjumlah {score_dibawah_satu.count()}\")\n",
    "score_dibawah_satu.show(5)\n",
    "\n",
    "print(f\"Jumlah review dengan skor diatas lima berjumlah {score_diatas_lima.count()}\")\n",
    "score_diatas_lima.show(5)"
   ]
  },
  {
   "cell_type": "markdown",
   "id": "9a5c2d69-acb2-4082-9688-7589924dfe98",
   "metadata": {},
   "source": [
    "### 11. Analisis Distribusi Skor Review</font>"
   ]
  },
  {
   "cell_type": "code",
   "execution_count": 15,
   "id": "8c1762b0-7c0b-43f4-81ae-8fa24283ad08",
   "metadata": {},
   "outputs": [
    {
     "name": "stderr",
     "output_type": "stream",
     "text": [
      "[Stage 42:>                                                         (0 + 2) / 2]\r"
     ]
    },
    {
     "name": "stdout",
     "output_type": "stream",
     "text": [
      "+-----+------+\n",
      "|score| count|\n",
      "+-----+------+\n",
      "|    1|209316|\n",
      "|    2| 28562|\n",
      "|    3| 36142|\n",
      "|    4| 72010|\n",
      "|    5|571195|\n",
      "+-----+------+\n",
      "\n"
     ]
    },
    {
     "name": "stderr",
     "output_type": "stream",
     "text": [
      "                                                                                \r"
     ]
    }
   ],
   "source": [
    "spark_df_cleaned.groupBy(\"score\").count().orderBy(\"score\").show()"
   ]
  },
  {
   "cell_type": "markdown",
   "id": "96878310-57bd-480a-a94d-7749874a29cd",
   "metadata": {},
   "source": [
    "### 12. Simpan data frame dengan ekstensi file csv"
   ]
  },
  {
   "cell_type": "code",
   "execution_count": 16,
   "id": "a8286794-99c6-4fa7-9f14-75e549813b8d",
   "metadata": {},
   "outputs": [
    {
     "name": "stderr",
     "output_type": "stream",
     "text": [
      "                                                                                \r"
     ]
    }
   ],
   "source": [
    "spark_df_cleaned.coalesce(1).write.csv(\"DataCleaned\", header=True, mode=\"overwrite\")"
   ]
  },
  {
   "cell_type": "markdown",
   "id": "215ac15d-f93f-431e-b434-f0432ef4ef8b",
   "metadata": {},
   "source": [
    "> ## <font face=\"TimesNewRoman\">Note\n",
    "> 1. <font face = \"TimesNewRoman\">Untuk atribut ``content`` masih harus dilakukan preprocessing lebih lanjut!  \n",
    "> 2. <font face = \"TimesNewRoman\">Disini saya sengaja melewatkannya karena masi mempelajari spark."
   ]
  },
  {
   "cell_type": "markdown",
   "id": "1ddd3562-b292-45a2-b8d5-b6b91fb7cdac",
   "metadata": {
    "jp-MarkdownHeadingCollapsed": true
   },
   "source": [
    "# <b> <font size=\"5\" face=\"TImesNewRoman\" color = \"Gray\">Memuat part DataCleaned (Tampan memulai dari CLEANING DATA)"
   ]
  },
  {
   "cell_type": "code",
   "execution_count": 63,
   "id": "c861c76a-525e-49a5-b40f-ce355d221435",
   "metadata": {},
   "outputs": [],
   "source": [
    "#from pyspark.sql import SparkSession\n",
    "#from pyspark.sql.functions import isnan, when, count\n",
    "#from pyspark.sql.functions import col\n",
    "#from pyspark.sql.functions import lit\n",
    "#from textblob import TextBlob\n",
    "#import matplotlib.pyplot as plt"
   ]
  },
  {
   "cell_type": "code",
   "execution_count": 14,
   "id": "837e1141-a383-4d9b-841a-48a6920e8f79",
   "metadata": {},
   "outputs": [
    {
     "name": "stderr",
     "output_type": "stream",
     "text": [
      "[Stage 8:>                                                          (0 + 2) / 2]\r"
     ]
    },
    {
     "name": "stdout",
     "output_type": "stream",
     "text": [
      "+------------+--------------------+--------------------+--------------------+--------------------+-----+-------------+\n",
      "|  appVersion|                  at|             content|reviewCreatedVersion|            reviewId|score|thumbsUpCount|\n",
      "+------------+--------------------+--------------------+--------------------+--------------------+-----+-------------+\n",
      "|1.9.43.10342|2024-12-27T09:35:...|game yg bikin gw ...|        1.9.43.10342|48eed574-b912-46b...|    1|           14|\n",
      "|     unknown|2024-12-27T09:30:...|game busukkk kalh...|             unknown|c23dc87e-ad8e-450...|    5|            0|\n",
      "|     unknown|2024-12-27T09:17:...|Game busuk bikin ...|             unknown|86a94d14-14e9-4b7...|    1|            0|\n",
      "|1.9.42.10341|2024-12-27T09:06:...|DAH GADA HARAPAN ...|        1.9.42.10341|7d8c43b1-dc74-490...|    1|           17|\n",
      "|1.9.42.10341|2024-12-27T08:54:...|Kasih tim yg bene...|        1.9.42.10341|b9b24f8e-8d33-4dd...|    1|            0|\n",
      "+------------+--------------------+--------------------+--------------------+--------------------+-----+-------------+\n",
      "only showing top 5 rows\n",
      "\n"
     ]
    },
    {
     "name": "stderr",
     "output_type": "stream",
     "text": [
      "                                                                                \r"
     ]
    }
   ],
   "source": [
    "#from pyspark.sql import SparkSession\n",
    "\n",
    "#spark = SparkSession.builder.appName(\"Read DataFrame from Parts\").getOrCreate()\n",
    "#spark_df_cleaned = spark.read.csv(\"DataCleaned/part-00000-8e3404b6-08b2-45f9-a967-75d8cc0168b8-c000.csv\", header=True, inferSchema=True)\n",
    "#spark_df_cleaned.show(5)"
   ]
  },
  {
   "cell_type": "code",
   "execution_count": 15,
   "id": "0f7d21ce-a957-48dc-8f04-1d12918a3e3d",
   "metadata": {},
   "outputs": [
    {
     "name": "stdout",
     "output_type": "stream",
     "text": [
      "root\n",
      " |-- appVersion: string (nullable = true)\n",
      " |-- at: string (nullable = true)\n",
      " |-- content: string (nullable = true)\n",
      " |-- reviewCreatedVersion: string (nullable = true)\n",
      " |-- reviewId: string (nullable = true)\n",
      " |-- score: integer (nullable = true)\n",
      " |-- thumbsUpCount: integer (nullable = true)\n",
      "\n"
     ]
    }
   ],
   "source": [
    "spark_df_cleaned.printSchema()"
   ]
  },
  {
   "cell_type": "code",
   "execution_count": null,
   "id": "4ea40efe-0a66-48aa-b09d-f78be70eb423",
   "metadata": {},
   "outputs": [],
   "source": []
  },
  {
   "cell_type": "markdown",
   "id": "4e209033-dedc-48ef-9fec-20f80ffd5990",
   "metadata": {},
   "source": [
    "### Batas"
   ]
  },
  {
   "cell_type": "markdown",
   "id": "3b2314b6-e329-49f3-afec-bb78085aabb3",
   "metadata": {
    "jp-MarkdownHeadingCollapsed": true
   },
   "source": [
    "# <b><span style=\"color:#ff7000; letter-spacing: 1px;\" >Transformasi Data Menggunakan TextBlob</span></b>"
   ]
  },
  {
   "cell_type": "markdown",
   "id": "057cf464-f7a3-4450-916f-89ce575d2a00",
   "metadata": {},
   "source": [
    "> #### <font face=\"TimesNewRoman\"><b>Tanpa preprocessing!</b>"
   ]
  },
  {
   "cell_type": "code",
   "execution_count": 16,
   "id": "e4e150ec-92bd-490c-a61f-6227fb203293",
   "metadata": {},
   "outputs": [],
   "source": [
    "from textblob import TextBlob\n",
    "\n",
    "# Fungsi untuk analisis sentimen\n",
    "def get_sentiment(text):\n",
    "    return TextBlob(text).sentiment.polarity\n",
    "\n",
    "# Ubah konten menjadi sentimen\n",
    "from pyspark.sql.functions import udf\n",
    "from pyspark.sql.types import FloatType\n",
    "\n",
    "sentiment_udf = udf(get_sentiment, FloatType())\n",
    "spark_df_cleaned = spark_df_cleaned.withColumn(\"sentiment\", sentiment_udf(col(\"content\")))"
   ]
  },
  {
   "cell_type": "code",
   "execution_count": 17,
   "id": "be9304a5-9f91-449c-8ca4-3923b49551f1",
   "metadata": {},
   "outputs": [
    {
     "name": "stderr",
     "output_type": "stream",
     "text": [
      "[Stage 10:>                                                         (0 + 1) / 1]\r"
     ]
    },
    {
     "name": "stdout",
     "output_type": "stream",
     "text": [
      "+------------+--------------------+--------------------+--------------------+--------------------+-----+-------------+-----------+\n",
      "|  appVersion|                  at|             content|reviewCreatedVersion|            reviewId|score|thumbsUpCount|  sentiment|\n",
      "+------------+--------------------+--------------------+--------------------+--------------------+-----+-------------+-----------+\n",
      "|1.9.43.10342|2024-12-27T09:35:...|game yg bikin gw ...|        1.9.43.10342|48eed574-b912-46b...|    1|           14|       -0.4|\n",
      "|     unknown|2024-12-27T09:30:...|game busukkk kalh...|             unknown|c23dc87e-ad8e-450...|    5|            0|       -0.4|\n",
      "|     unknown|2024-12-27T09:17:...|Game busuk bikin ...|             unknown|86a94d14-14e9-4b7...|    1|            0|       -0.3|\n",
      "|1.9.42.10341|2024-12-27T09:06:...|DAH GADA HARAPAN ...|        1.9.42.10341|7d8c43b1-dc74-490...|    1|           17|        0.0|\n",
      "|1.9.42.10341|2024-12-27T08:54:...|Kasih tim yg bene...|        1.9.42.10341|b9b24f8e-8d33-4dd...|    1|            0|        0.0|\n",
      "|     unknown|2024-12-27T08:52:...|game busuk, ngasi...|             unknown|98453e88-90e5-4dc...|    1|            0|       -0.4|\n",
      "|1.9.42.10341|2024-12-27T08:28:...|nih ya moonton gw...|        1.9.42.10341|a9f48077-56c2-431...|    5|            0|        0.0|\n",
      "|1.9.42.10341|2024-12-27T08:25:...|Tolong kalau upda...|        1.9.42.10341|176ba960-002f-4e8...|    2|            0|        0.0|\n",
      "|1.9.42.10341|2024-12-27T08:04:...|Game tidak. Adil ...|        1.9.42.10341|e248e88e-d9c9-44f...|    1|            0|-0.13333334|\n",
      "|1.9.42.10341|2024-12-27T07:57:...|Phoveus mohon kas...|        1.9.42.10341|84284b03-4b99-466...|    5|            0|        0.0|\n",
      "+------------+--------------------+--------------------+--------------------+--------------------+-----+-------------+-----------+\n",
      "only showing top 10 rows\n",
      "\n"
     ]
    },
    {
     "name": "stderr",
     "output_type": "stream",
     "text": [
      "                                                                                \r"
     ]
    }
   ],
   "source": [
    "spark_df_cleaned.show(10)"
   ]
  },
  {
   "cell_type": "markdown",
   "id": "eeac40f2-bd51-4b2f-a47e-f8a3b76564dc",
   "metadata": {},
   "source": [
    "### (a) Melihat Skema"
   ]
  },
  {
   "cell_type": "code",
   "execution_count": 18,
   "id": "0930a57f-64db-4138-a806-ee3c5b8b6542",
   "metadata": {},
   "outputs": [
    {
     "name": "stdout",
     "output_type": "stream",
     "text": [
      "root\n",
      " |-- appVersion: string (nullable = true)\n",
      " |-- at: string (nullable = true)\n",
      " |-- content: string (nullable = true)\n",
      " |-- reviewCreatedVersion: string (nullable = true)\n",
      " |-- reviewId: string (nullable = true)\n",
      " |-- score: integer (nullable = true)\n",
      " |-- thumbsUpCount: integer (nullable = true)\n",
      " |-- sentiment: float (nullable = true)\n",
      "\n"
     ]
    }
   ],
   "source": [
    "spark_df_cleaned.printSchema()"
   ]
  },
  {
   "cell_type": "markdown",
   "id": "a48502ca-652e-4d69-b689-2dd12524be6f",
   "metadata": {},
   "source": [
    "<font face=\"TimesNewRoman\">Dari skema diatas, tipe data atribut ``sentiment`` sudah sesuai \"``float``\""
   ]
  },
  {
   "cell_type": "markdown",
   "id": "19ed821b-ff65-4058-87db-783c5594c068",
   "metadata": {},
   "source": [
    "### (b) Memfilter DataFrame berdasarkan nilai kolom sentiment\n",
    "``klasifikasi data berdasarkan polaritas sentimen``"
   ]
  },
  {
   "cell_type": "code",
   "execution_count": 19,
   "id": "601369b2-4d90-4c1f-9145-2fec6e87e102",
   "metadata": {},
   "outputs": [],
   "source": [
    "# Filter sentiment positif, negatif dan netral berdasarkan \n",
    "sentiment_positif = spark_df_cleaned.filter(col(\"sentiment\") > 0)\n",
    "sentiment_negatif = spark_df_cleaned.filter(col(\"sentiment\") < 0)\n",
    "sentiment_netral = spark_df_cleaned.filter(col(\"sentiment\") == 0)"
   ]
  },
  {
   "cell_type": "markdown",
   "id": "f035af34-5dd9-4b10-9bb0-7954f74f8fdc",
   "metadata": {},
   "source": [
    "### (c) Menghitung jumlah baris untuk masing-masing kategori sentimen"
   ]
  },
  {
   "cell_type": "code",
   "execution_count": 20,
   "id": "1906ade5-3649-43f7-b64e-ad1168887ef6",
   "metadata": {},
   "outputs": [
    {
     "name": "stderr",
     "output_type": "stream",
     "text": [
      "[Stage 17:=============================>                            (1 + 1) / 2]\r"
     ]
    },
    {
     "name": "stdout",
     "output_type": "stream",
     "text": [
      "Total jumlah sentimen Positif = 108584\n",
      "Total jumlah sentimen Negatif = 280883\n",
      "Total jumlah sentimen Netral  = 527758\n"
     ]
    },
    {
     "name": "stderr",
     "output_type": "stream",
     "text": [
      "                                                                                \r"
     ]
    }
   ],
   "source": [
    "total_positif = sentiment_positif.count()\n",
    "total_negatif = sentiment_negatif.count()\n",
    "total_netral  = sentiment_netral.count()\n",
    "\n",
    "# Tampilkan beberapa baris\n",
    "print(f\"Total jumlah sentimen Positif = {total_positif}\")\n",
    "print(f\"Total jumlah sentimen Negatif = {total_negatif}\")\n",
    "print(f\"Total jumlah sentimen Netral  = {total_netral}\")"
   ]
  },
  {
   "cell_type": "markdown",
   "id": "1994d60c-8f7d-43ee-89ad-05bd37115579",
   "metadata": {},
   "source": [
    "# <b><span style=\"color:#ff7000; letter-spacing: 1.5px;\" >Visualisasi menggunakan piechart</span></b>"
   ]
  },
  {
   "cell_type": "markdown",
   "id": "8693a5b5-9144-4ebc-ace8-35b7f0f1d06e",
   "metadata": {},
   "source": [
    "#### (a) Menampilkan jumlah dan persentase sentiment"
   ]
  },
  {
   "cell_type": "code",
   "execution_count": 61,
   "id": "4b924267-b08d-45b3-9be1-2438b4ee7c18",
   "metadata": {},
   "outputs": [
    {
     "data": {
      "image/png": "[encoded data removed]",
      "text/plain": [
       "<Figure size 400x400 with 1 Axes>"
      ]
     },
     "metadata": {},
     "output_type": "display_data"
    }
   ],
   "source": [
    "import matplotlib.pyplot as plt\n",
    "\n",
    "# Data untuk visualisasi\n",
    "labels = ['Positif', 'Negatif', 'Netral']\n",
    "sizes = [total_positif,total_negatif,total_netral]\n",
    "colors = ['#4cff96','#ff524c','#4c9eff']\n",
    "\n",
    "# Menghitung persentase\n",
    "total = sum(sizes)\n",
    "persen = [f\"{label} ({size})\" for label, size in zip(labels, sizes)]\n",
    "\n",
    "# Membuat pie chart\n",
    "plt.figure(figsize=(4, 4))\n",
    "plt.pie(\n",
    "    sizes, labels=labels, colors=colors, \n",
    "    autopct='%1.1f%%', startangle=-83, textprops={'fontsize': 9}\n",
    ")\n",
    "plt.title('Sentimen Content')\n",
    "plt.legend(persen, title=\"Sentimen Content \\n\", fontsize = 8.5, loc=\"upper right\", bbox_to_anchor=(1.6, 1.1))\n",
    "plt.axis('equal')  # Pastikan pie chart berbentuk lingkaran\n",
    "plt.show()"
   ]
  },
  {
   "cell_type": "markdown",
   "id": "5c6e0c15-f32e-4cc9-ade2-edca94ddcecf",
   "metadata": {},
   "source": [
    "#### (b) Memfilter persentase jumlah rating terbanyak</font>"
   ]
  },
  {
   "cell_type": "code",
   "execution_count": 22,
   "id": "13db06b8-f1a1-4a5f-a774-badba346b937",
   "metadata": {},
   "outputs": [
    {
     "name": "stderr",
     "output_type": "stream",
     "text": [
      "                                                                                \r"
     ]
    }
   ],
   "source": [
    "# Filter bintang (Rating atau Score)\n",
    "bintang1 = spark_df_cleaned.filter(col(\"score\") == 1)\n",
    "bintang2 = spark_df_cleaned.filter(col(\"score\") == 2)\n",
    "bintang3 = spark_df_cleaned.filter(col(\"score\") == 3)\n",
    "bintang4 = spark_df_cleaned.filter(col(\"score\") == 4)\n",
    "bintang5 = spark_df_cleaned.filter(col(\"score\") == 5)\n",
    "\n",
    "# htung bintang (rating atau score)\n",
    "b1 = bintang1.count()\n",
    "b2 = bintang2.count()\n",
    "b3 = bintang3.count()\n",
    "b4 = bintang4.count()\n",
    "b5 = bintang5.count()"
   ]
  },
  {
   "cell_type": "code",
   "execution_count": 23,
   "id": "6c9c899e-eb61-4c4b-bc18-2716a94daeff",
   "metadata": {},
   "outputs": [
    {
     "data": {
      "image/png": "[encoded data removed]",
      "text/plain": [
       "<Figure size 450x450 with 1 Axes>"
      ]
     },
     "metadata": {},
     "output_type": "display_data"
    }
   ],
   "source": [
    "import matplotlib.pyplot as plt\n",
    "import random\n",
    "# Data untuk visualisasi\n",
    "labels = ['1 Star', '2 Star', '3 Star','4 Star','5 Star']\n",
    "bintang = [b1, b2, b3, b4, b5]\n",
    "\n",
    "colors = ['#ff474b', '#b995ff', '#52b2ff', '#58ffd9', '#21ff6f']\n",
    "\n",
    "# Menghitung persentase\n",
    "jumlah_total = sum(bintang)\n",
    "#persentasi = [f\"{label} ({size / total * 100:.1f}%)\" for label, size in zip(labels, jumlah_total)]\n",
    "total = [f\"{label} ({size})\" for label, size in zip(labels, bintang)]\n",
    "\n",
    "# Membuat pie chart\n",
    "plt.figure(figsize=(4.5,4.5))\n",
    "plt.pie(\n",
    "    bintang, #explode = (0.03, 0.03, 0.03, 0.03, 0.03), \n",
    "    labels=labels, colors=colors, pctdistance=0.75, \n",
    "    autopct='%1.1f%%', shadow=True, startangle=90, \n",
    "    labeldistance=1.10, textprops={'fontsize': 8}\n",
    ")\n",
    "plt.title('Distribusi Rating (Bintang)')\n",
    "plt.legend(total, title=\"Bintang\", loc=\"upper right\", fontsize = 9, bbox_to_anchor=(1.5, 1) )\n",
    "plt.axis('equal')  # Pastikan pie chart berbentuk lingkaran\n",
    "plt.show()"
   ]
  },
  {
   "cell_type": "markdown",
   "id": "0fa5b112-8801-4e56-92f4-afc71aad9e21",
   "metadata": {},
   "source": [
    "### # Menampilkan isi dataset"
   ]
  },
  {
   "cell_type": "code",
   "execution_count": 24,
   "id": "dec28479-d0cd-41aa-8ae0-04837fd2ba7d",
   "metadata": {},
   "outputs": [
    {
     "name": "stderr",
     "output_type": "stream",
     "text": [
      "[Stage 35:>                                                         (0 + 1) / 1]\r"
     ]
    },
    {
     "name": "stdout",
     "output_type": "stream",
     "text": [
      "+------------+--------------------+--------------------+--------------------+--------------------+-----+-------------+---------+\n",
      "|  appVersion|                  at|             content|reviewCreatedVersion|            reviewId|score|thumbsUpCount|sentiment|\n",
      "+------------+--------------------+--------------------+--------------------+--------------------+-----+-------------+---------+\n",
      "|1.9.43.10342|2024-12-27T09:35:...|game yg bikin gw ...|        1.9.43.10342|48eed574-b912-46b...|    1|           14|     -0.4|\n",
      "|     unknown|2024-12-27T09:30:...|game busukkk kalh...|             unknown|c23dc87e-ad8e-450...|    5|            0|     -0.4|\n",
      "|     unknown|2024-12-27T09:17:...|Game busuk bikin ...|             unknown|86a94d14-14e9-4b7...|    1|            0|     -0.3|\n",
      "|1.9.42.10341|2024-12-27T09:06:...|DAH GADA HARAPAN ...|        1.9.42.10341|7d8c43b1-dc74-490...|    1|           17|      0.0|\n",
      "|1.9.42.10341|2024-12-27T08:54:...|Kasih tim yg bene...|        1.9.42.10341|b9b24f8e-8d33-4dd...|    1|            0|      0.0|\n",
      "+------------+--------------------+--------------------+--------------------+--------------------+-----+-------------+---------+\n",
      "only showing top 5 rows\n",
      "\n"
     ]
    },
    {
     "name": "stderr",
     "output_type": "stream",
     "text": [
      "                                                                                \r"
     ]
    }
   ],
   "source": [
    "spark_df_cleaned.show(5)"
   ]
  },
  {
   "cell_type": "markdown",
   "id": "f23f72f0-a4ca-435f-9e3d-aabb3bc71ddd",
   "metadata": {},
   "source": [
    "### # Mengurutkan DataFrame \n",
    "> Short Ascending Berdasarkan thumpsUpCount (Dari terbesar hingga terkecil)"
   ]
  },
  {
   "cell_type": "code",
   "execution_count": 25,
   "id": "b7c64771-f342-48b9-92a5-1a63019c12a0",
   "metadata": {},
   "outputs": [
    {
     "name": "stderr",
     "output_type": "stream",
     "text": [
      "[Stage 36:=============================>                            (1 + 1) / 2]\r"
     ]
    },
    {
     "name": "stdout",
     "output_type": "stream",
     "text": [
      "+------------+--------------------+--------------------+--------------------+--------------------+-----+-------------+-----------+\n",
      "|  appVersion|                  at|             content|reviewCreatedVersion|            reviewId|score|thumbsUpCount|  sentiment|\n",
      "+------------+--------------------+--------------------+--------------------+--------------------+-----+-------------+-----------+\n",
      "| 19.2.21.104|2024-11-10T13:26:...|Makin kesini maki...|         19.2.21.104|d11d2c3c-3e24-45e...|    1|        43813|      -0.15|\n",
      "|1.9.29.10113|2024-11-13T13:12:...|Tolong Perbaiki l...|        1.9.29.10113|a041ecd7-8baf-47c...|    1|        21292|-0.34444445|\n",
      "|1.9.29.10113|2024-11-09T11:42:...|Bagus sih tapi cu...|        1.9.29.10113|32fff8c0-e93a-48b...|    5|        20491| 0.33333334|\n",
      "| 19.2.11.103|2024-09-20T23:02:...|Game nya sih udah...|         19.2.11.103|e04cdb0e-ce3e-49c...|    5|        15169|       -0.2|\n",
      "| 19.2.11.103|2024-09-20T23:02:...|Game nya sih udah...|         19.2.11.103|e04cdb0e-ce3e-49c...|    5|        15169|       -0.2|\n",
      "+------------+--------------------+--------------------+--------------------+--------------------+-----+-------------+-----------+\n",
      "only showing top 5 rows\n",
      "\n"
     ]
    },
    {
     "name": "stderr",
     "output_type": "stream",
     "text": [
      "                                                                                \r"
     ]
    }
   ],
   "source": [
    "# Mengurutkan DataFrame berdasarkan thumbsUpCount secara menurun\n",
    "sorted_df = spark_df_cleaned.orderBy(col('thumbsUpCount').desc())\n",
    "\n",
    "# Menampilkan 5 data teratas setelah diurutkan\n",
    "sorted_df.show(5)"
   ]
  },
  {
   "cell_type": "markdown",
   "id": "313f4c15-1931-437e-8ed4-4e015f169601",
   "metadata": {},
   "source": [
    "> ### Menampilkan Top 10\n",
    "> ``Pengurutan Descending (Menurun)``"
   ]
  },
  {
   "cell_type": "markdown",
   "id": "018d1515-e42d-4935-9bf8-0ff1357915a3",
   "metadata": {},
   "source": [
    "## Top 10"
   ]
  },
  {
   "cell_type": "markdown",
   "id": "bbb2c192-53c0-4255-a85e-811bb42fc33c",
   "metadata": {},
   "source": [
    "``Mengambil top 10 data dengan jumlah thumbsUpCount terbanyak``"
   ]
  },
  {
   "cell_type": "code",
   "execution_count": 37,
   "id": "654ccca5-6bcb-4e8c-8288-e6031fca3a7f",
   "metadata": {},
   "outputs": [
    {
     "name": "stderr",
     "output_type": "stream",
     "text": [
      "                                                                                \r"
     ]
    },
    {
     "name": "stdout",
     "output_type": "stream",
     "text": [
      "+------------+--------------------+--------------------+--------------------+--------------------+-----+-------------+--------------------+\n",
      "|  appVersion|                  at|             content|reviewCreatedVersion|            reviewId|score|thumbsUpCount|           sentiment|\n",
      "+------------+--------------------+--------------------+--------------------+--------------------+-----+-------------+--------------------+\n",
      "| 19.2.21.104|2024-11-10T13:26:...|Makin kesini maki...|         19.2.21.104|d11d2c3c-3e24-45e...|    1|        43813|-0.15000000596046448|\n",
      "|1.9.29.10113|2024-11-13T13:12:...|Tolong Perbaiki l...|        1.9.29.10113|a041ecd7-8baf-47c...|    1|        21292| -0.3444444537162781|\n",
      "|1.9.29.10113|2024-11-09T11:42:...|Bagus sih tapi cu...|        1.9.29.10113|32fff8c0-e93a-48b...|    5|        20491|  0.3333333432674408|\n",
      "| 19.2.11.103|2024-09-20T23:02:...|Game nya sih udah...|         19.2.11.103|e04cdb0e-ce3e-49c...|    5|        15169|-0.20000000298023224|\n",
      "| 19.2.11.103|2024-09-20T23:02:...|Game nya sih udah...|         19.2.11.103|e04cdb0e-ce3e-49c...|    5|        15169|-0.20000000298023224|\n",
      "| 19.2.11.103|2024-09-20T23:02:...|Game nya sih udah...|         19.2.11.103|e04cdb0e-ce3e-49c...|    5|        15169|-0.20000000298023224|\n",
      "| 19.2.11.103|2024-09-20T23:02:...|Game nya sih udah...|         19.2.11.103|e04cdb0e-ce3e-49c...|    5|        15169|-0.20000000298023224|\n",
      "| 1.9.11.9836|2024-09-29T02:22:...|Sekarang untuk pl...|         1.9.11.9836|8a777000-72b4-47a...|    1|         9503|                 0.0|\n",
      "|1.9.29.10113|2024-11-12T17:29:...|Tolong perbaiki m...|        1.9.29.10113|f963bf0d-a994-462...|    5|         9426| -0.4000000059604645|\n",
      "| 19.2.11.103|2024-09-27T08:25:...|saya ingin mengkr...|         19.2.11.103|7b728b65-c738-492...|    4|         9277|                 0.0|\n",
      "+------------+--------------------+--------------------+--------------------+--------------------+-----+-------------+--------------------+\n",
      "\n"
     ]
    }
   ],
   "source": [
    "# Mengambil 10 data teratas sebagai list\n",
    "topTen_list = sorted_df.limit(10).collect()\n",
    "\n",
    "# Membuat kembali menjadi Spark DataFrame\n",
    "df_topTEN = spark.createDataFrame(topTen_list)\n",
    "\n",
    "# Menampilkan top 10 dalam bentuk data frame\n",
    "df_topTEN.show()"
   ]
  },
  {
   "cell_type": "markdown",
   "id": "89913c90-8655-4907-9c88-fd067a1dafd4",
   "metadata": {},
   "source": [
    "### Untuk perbandingan ``sentiment content`` dan ``sentiment score`` (rating)"
   ]
  },
  {
   "cell_type": "code",
   "execution_count": 38,
   "id": "ec682882-a728-45fe-b728-6db8a6676419",
   "metadata": {},
   "outputs": [],
   "source": [
    "# Filter sentiment positif, negatif dan netral berdasarkan score\n",
    "rating_positif = sorted_df.filter(col(\"score\") > 3)\n",
    "rating_negatif = sorted_df.filter(col(\"score\") < 3)\n",
    "rating_netral = sorted_df.filter(col(\"score\") == 3)"
   ]
  },
  {
   "cell_type": "code",
   "execution_count": 39,
   "id": "bd3db5c7-0849-4160-a527-8e6b3b3fcade",
   "metadata": {},
   "outputs": [
    {
     "name": "stderr",
     "output_type": "stream",
     "text": [
      "[Stage 53:>                                                         (0 + 2) / 2]\r"
     ]
    },
    {
     "name": "stdout",
     "output_type": "stream",
     "text": [
      "Total jumlah rating Positif = 643205\n",
      "Total jumlah rating Negatif = 237878\n",
      "Total jumlah rating Netral  = 36142\n"
     ]
    },
    {
     "name": "stderr",
     "output_type": "stream",
     "text": [
      "                                                                                \r"
     ]
    }
   ],
   "source": [
    "total_rating_positif = rating_positif.count()\n",
    "total_rating_negatif = rating_negatif.count()\n",
    "total_rating_netral  = rating_netral.count()\n",
    "\n",
    "# Menampilkan hasil perhitungan score (rating)\n",
    "print(f\"Total jumlah rating Positif = {total_rating_positif}\")\n",
    "print(f\"Total jumlah rating Negatif = {total_rating_negatif}\")\n",
    "print(f\"Total jumlah rating Netral  = {total_rating_netral}\")"
   ]
  },
  {
   "cell_type": "code",
   "execution_count": 62,
   "id": "696cd887-bbb4-4282-9c57-0bb881a188bb",
   "metadata": {},
   "outputs": [
    {
     "data": {
      "image/png": "[encoded data removed]",
      "text/plain": [
       "<Figure size 400x400 with 1 Axes>"
      ]
     },
     "metadata": {},
     "output_type": "display_data"
    }
   ],
   "source": [
    "import matplotlib.pyplot as plt\n",
    "\n",
    "# Data untuk visualisasi\n",
    "labels = ['Positif', 'Negatif', 'Netral']\n",
    "sizes = [total_rating_positif,total_rating_negatif,total_rating_netral]\n",
    "colors = ['#4cff96','#ff524c','#4c9eff']\n",
    "\n",
    "# Menghitung persentase\n",
    "total = sum(sizes)\n",
    "persen = [f\"{label} ({size})\" for label, size in zip(labels, sizes)]\n",
    "\n",
    "# Membuat pie chart\n",
    "plt.figure(figsize=(4, 4))\n",
    "plt.pie(\n",
    "    sizes, labels=labels, colors=colors, pctdistance=0.75, \n",
    "    autopct='%1.1f%%', startangle=-140, textprops={'fontsize': 8}\n",
    ")\n",
    "plt.title('Sentimen Rating')\n",
    "plt.legend(persen, title=\"Sentimen Rating\\n\", fontsize = 8.5, loc=\"upper right\", bbox_to_anchor=(1.6, 1))\n",
    "plt.axis('equal')  # Pastikan pie chart berbentuk lingkaran\n",
    "plt.show()"
   ]
  },
  {
   "cell_type": "markdown",
   "id": "5c031abe-3a53-4436-8bad-cbf350b721a8",
   "metadata": {},
   "source": [
    "<hr>"
   ]
  },
  {
   "cell_type": "markdown",
   "id": "3ec6eebf-b81e-47c5-bc99-79e8d365236b",
   "metadata": {},
   "source": [
    "> #  <b><font size=\"4.5\" color=\"Gray\">Ini adalah batas akhir dari pengerjaan!</font></b>"
   ]
  },
  {
   "cell_type": "markdown",
   "id": "e6671be5-e09f-47d0-bc8b-8cdb782fe089",
   "metadata": {},
   "source": [
    "<hr>"
   ]
  },
  {
   "cell_type": "markdown",
   "id": "5deec83b-fb18-4033-b0a5-3ba4a12f4c32",
   "metadata": {},
   "source": [
    "# <b><font face = \"TimesNewRoman\" size=\"6\" color=\"#e1e1e1\"><span style=\"background-color:#e65305\">Berdasarkan hasil perhitungan dan visualisasi"
   ]
  },
  {
   "cell_type": "markdown",
   "id": "4700affa-0de4-455d-8995-b03bef53edc5",
   "metadata": {},
   "source": [
    "> ### ``Sentiment content``\n",
    "<img src=\"img/Sentiment_content_vis.jpg\" width=\"500\" height=\"550\"></img>\n",
    "\n",
    "<hr>\n",
    "\n",
    "> ### ``Sentiment Rating``\n",
    "<img src=\"img/Sentiment_rating_vis.jpg\" width=\"500\" height=\"550\">"
   ]
  },
  {
   "cell_type": "code",
   "execution_count": null,
   "id": "61e78794-5c27-457d-bc18-fd7471ad6c51",
   "metadata": {},
   "outputs": [],
   "source": []
  }
 ],
 "metadata": {
  "kernelspec": {
   "display_name": "Python 3 (ipykernel)",
   "language": "python",
   "name": "python3"
  },
  "language_info": {
   "codemirror_mode": {
    "name": "ipython",
    "version": 3
   },
   "file_extension": ".py",
   "mimetype": "text/x-python",
   "name": "python",
   "nbconvert_exporter": "python",
   "pygments_lexer": "ipython3",
   "version": "3.10.12"
  }
 },
 "nbformat": 4,
 "nbformat_minor": 5
}
