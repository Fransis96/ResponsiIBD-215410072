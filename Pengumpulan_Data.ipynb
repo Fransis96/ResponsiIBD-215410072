{
 "cells": [
  {
   "cell_type": "markdown",
   "id": "83da0ebb-0a24-4443-99b1-b5879e30eb01",
   "metadata": {},
   "source": [
    "# <b><font  color = \"Navy\" face=\"TimesNewRoman\">PENGUMPULAN DATA</font></b>"
   ]
  },
  {
   "cell_type": "markdown",
   "id": "33647ea1-e45c-4876-acb3-c43ea714c5d6",
   "metadata": {},
   "source": [
    "## <font face=\"TimesNewRoman\">1) Import modul </font>"
   ]
  },
  {
   "cell_type": "code",
   "execution_count": 3,
   "id": "b8ece082-539b-44a2-9adb-a671b8f9abb3",
   "metadata": {},
   "outputs": [],
   "source": [
    "from google_play_scraper import Sort, reviews"
   ]
  },
  {
   "cell_type": "markdown",
   "id": "bd09705b-1abb-47f6-82ca-c20a03e06879",
   "metadata": {},
   "source": [
    "## <font face=\"TimesNewRoman\">3) Scrap data dari Google Play</font>"
   ]
  },
  {
   "cell_type": "markdown",
   "id": "764a4dcf-8657-404d-bb49-0b4a1d14b41e",
   "metadata": {},
   "source": [
    "### <font face=\"TimesNewRoman\">(a) Informasi terkait data yang akan dikumpulkan </font>\n",
    "1. Persiapan Awal Sebelum Memulai Scraping Data Google Playstore\n",
    "   - Nama package = ``com.mobile.legends``\n",
    "   - Bahasa = Indonesia (``id``)\n",
    "   - Negara = Indonesia (``id``)\n",
    "   - Kategori ulasan = ``NEWEST``\n",
    "   - Jumlah data =  ``155300`` dari total ``155300``"
   ]
  },
  {
   "cell_type": "markdown",
   "id": "d143c38a-b7af-496d-9ece-51923646462e",
   "metadata": {},
   "source": [
    "### <font face=\"TimesNewRoman\">(b) Memulai pengumpulan data</font>\n",
    "Memulai dari scraping ``155300`` data"
   ]
  },
  {
   "cell_type": "code",
   "execution_count": 3,
   "id": "9074f16b-702e-40d8-95c2-41b3b680d1df",
   "metadata": {},
   "outputs": [
    {
     "name": "stdout",
     "output_type": "stream",
     "text": [
      "Jumlah baris data = 155300\n"
     ]
    }
   ],
   "source": [
    "# List untuk menyimpan total data\n",
    "total_reviews = []\n",
    "\n",
    "# Mengambil data pertama\n",
    "result, continuation_token = reviews(\n",
    "    'com.mobile.legends',\n",
    "    lang='id',\n",
    "    country='id',\n",
    "    sort=Sort.NEWEST,\n",
    "    count=155300,\n",
    "    filter_score_with=None\n",
    ")\n",
    "\n",
    "# Menambahkan hasil ke total_reviews\n",
    "total_reviews.extend(result)\n",
    "\n",
    "# Menampilkan jumlah baris data\n",
    "print(f\"Jumlah baris data = {len(result)}\")"
   ]
  },
  {
   "cell_type": "markdown",
   "id": "49e1f7d8-b5fd-4f9a-b4b0-f400a92ea9ea",
   "metadata": {},
   "source": [
    "### <font face=\"TimesNewRoman\">(c) Melanjutkan pengumpulan data</font>"
   ]
  },
  {
   "cell_type": "code",
   "execution_count": 10,
   "id": "c771c894-9743-45f6-9efc-73a5a5333fe7",
   "metadata": {},
   "outputs": [
    {
     "name": "stdout",
     "output_type": "stream",
     "text": [
      "Total data yang sudah dikumpulkan: 924900\n"
     ]
    }
   ],
   "source": [
    "# Mengambil data berikutnya dengan continuation_token\n",
    "result, _ = reviews(\n",
    "    'com.mobile.legends',\n",
    "    continuation_token=continuation_token # defaults to None(load from the beginning)\n",
    ")\n",
    "\n",
    "# Menambahkan data baru ke total_reviews\n",
    "total_reviews.extend(result)\n",
    "    \n",
    "# Menampilkan total data yang sudah dikumpulkan\n",
    "print(f\"Total data yang sudah dikumpulkan: {len(total_reviews)}\")"
   ]
  },
  {
   "cell_type": "markdown",
   "id": "9811fef3-2ad2-4287-8245-894ad2619dbf",
   "metadata": {},
   "source": [
    "### <font face=\"TimesNewRoman\">(d) Melihat isi <b>total_reviews</b>"
   ]
  },
  {
   "cell_type": "code",
   "execution_count": 12,
   "id": "6c4707ec-6ff6-4881-828a-e0ed44acc65b",
   "metadata": {},
   "outputs": [
    {
     "name": "stdout",
     "output_type": "stream",
     "text": [
      "[{'reviewId': '48eed574-b912-46b7-ae4e-a5ded4fbe7fa', 'userName': 'Pengguna Google', 'userImage': 'https://play-lh.googleusercontent.com/EGemoI2NTXmTsBVtJqk8jxF9rh8ApRWfsIMQSt2uE4OcpQqbFu7f7NbTK05lx80nuSijCz7sc3a277R67g', 'content': 'game yg bikin gw salit kepala', 'score': 1, 'thumbsUpCount': 14, 'reviewCreatedVersion': '1.9.43.10342', 'at': datetime.datetime(2024, 12, 27, 9, 35, 39), 'replyContent': None, 'repliedAt': None, 'appVersion': '1.9.43.10342'}, {'reviewId': 'c23dc87e-ad8e-4504-b156-15d54a49fd52', 'userName': 'Pengguna Google', 'userImage': 'https://play-lh.googleusercontent.com/EGemoI2NTXmTsBVtJqk8jxF9rh8ApRWfsIMQSt2uE4OcpQqbFu7f7NbTK05lx80nuSijCz7sc3a277R67g', 'content': 'game busukkk kalhh teruss', 'score': 5, 'thumbsUpCount': 0, 'reviewCreatedVersion': None, 'at': datetime.datetime(2024, 12, 27, 9, 30, 33), 'replyContent': None, 'repliedAt': None, 'appVersion': None}, {'reviewId': '86a94d14-14e9-4b7f-99c7-bb558dba5804', 'userName': 'Pengguna Google', 'userImage': 'https://play-lh.googleusercontent.com/EGemoI2NTXmTsBVtJqk8jxF9rh8ApRWfsIMQSt2uE4OcpQqbFu7f7NbTK05lx80nuSijCz7sc3a277R67g', 'content': 'Game busuk bikin gw setres aja. Mau naik tier aja satu bintang lagi gw dikasih tim yg ngetrol. Ini game apa ngetes mental sampe lupa waktu.', 'score': 1, 'thumbsUpCount': 0, 'reviewCreatedVersion': None, 'at': datetime.datetime(2024, 12, 27, 9, 17, 21), 'replyContent': None, 'repliedAt': None, 'appVersion': None}, {'reviewId': '7d8c43b1-dc74-4903-87d1-ccc401b106ee', 'userName': 'Pengguna Google', 'userImage': 'https://play-lh.googleusercontent.com/EGemoI2NTXmTsBVtJqk8jxF9rh8ApRWfsIMQSt2uE4OcpQqbFu7f7NbTK05lx80nuSijCz7sc3a277R67g', 'content': 'DAH GADA HARAPAN LAGI BYE BRO', 'score': 1, 'thumbsUpCount': 17, 'reviewCreatedVersion': '1.9.42.10341', 'at': datetime.datetime(2024, 12, 27, 9, 6, 53), 'replyContent': None, 'repliedAt': None, 'appVersion': '1.9.42.10341'}, {'reviewId': 'b9b24f8e-8d33-4ddd-a214-51afce456595', 'userName': 'Pengguna Google', 'userImage': 'https://play-lh.googleusercontent.com/EGemoI2NTXmTsBVtJqk8jxF9rh8ApRWfsIMQSt2uE4OcpQqbFu7f7NbTK05lx80nuSijCz7sc3a277R67g', 'content': 'Kasih tim yg bener lah babi', 'score': 1, 'thumbsUpCount': 0, 'reviewCreatedVersion': '1.9.42.10341', 'at': datetime.datetime(2024, 12, 27, 8, 54, 57), 'replyContent': None, 'repliedAt': None, 'appVersion': '1.9.42.10341'}]\n"
     ]
    }
   ],
   "source": [
    "# Menampilkan 5 review pertama dari total_reviews\n",
    "print(total_reviews[:5])  # Menampilkan 5 item pertama"
   ]
  },
  {
   "cell_type": "markdown",
   "id": "b01ea620-3c26-4259-949e-80aad84f2a85",
   "metadata": {},
   "source": [
    "## <font face=\"TimesNewRoman\">4) Meyimpan data hasil scraping </font>"
   ]
  },
  {
   "cell_type": "markdown",
   "id": "3d744f7c-c22a-426e-a86c-9101d731adc5",
   "metadata": {},
   "source": [
    "### <font face=\"TimesNewRoman\">(a) Inisialisasi sesi spark dan membuat data frame baru"
   ]
  },
  {
   "cell_type": "code",
   "execution_count": 13,
   "id": "cb687237-251e-4c77-af97-b90a3daa9cf1",
   "metadata": {},
   "outputs": [
    {
     "name": "stderr",
     "output_type": "stream",
     "text": [
      "24/12/28 10:17:31 WARN TaskSetManager: Stage 0 contains a task of very large size (121735 KiB). The maximum recommended task size is 1000 KiB.\n",
      "                                                                                \r"
     ]
    },
    {
     "name": "stdout",
     "output_type": "stream",
     "text": [
      "+------------+-------------------+--------------------+-------------------+--------------------+--------------------+--------------------+-----+-------------+--------------------+---------------+\n",
      "|  appVersion|                 at|             content|          repliedAt|        replyContent|reviewCreatedVersion|            reviewId|score|thumbsUpCount|           userImage|       userName|\n",
      "+------------+-------------------+--------------------+-------------------+--------------------+--------------------+--------------------+-----+-------------+--------------------+---------------+\n",
      "|1.9.43.10342|2024-12-27 09:35:39|game yg bikin gw ...|               null|                null|        1.9.43.10342|48eed574-b912-46b...|    1|           14|https://play-lh.g...|Pengguna Google|\n",
      "|        null|2024-12-27 09:30:33|game busukkk kalh...|               null|                null|                null|c23dc87e-ad8e-450...|    5|            0|https://play-lh.g...|Pengguna Google|\n",
      "|        null|2024-12-27 09:17:21|Game busuk bikin ...|               null|                null|                null|86a94d14-14e9-4b7...|    1|            0|https://play-lh.g...|Pengguna Google|\n",
      "|1.9.42.10341|2024-12-27 09:06:53|DAH GADA HARAPAN ...|               null|                null|        1.9.42.10341|7d8c43b1-dc74-490...|    1|           17|https://play-lh.g...|Pengguna Google|\n",
      "|1.9.42.10341|2024-12-27 08:54:57|Kasih tim yg bene...|               null|                null|        1.9.42.10341|b9b24f8e-8d33-4dd...|    1|            0|https://play-lh.g...|Pengguna Google|\n",
      "|        null|2024-12-27 08:52:30|game busuk, ngasi...|               null|                null|                null|98453e88-90e5-4dc...|    1|            0|https://play-lh.g...|Pengguna Google|\n",
      "|1.9.42.10341|2024-12-27 08:28:52|nih ya moonton gw...|               null|                null|        1.9.42.10341|a9f48077-56c2-431...|    5|            0|https://play-lh.g...|Pengguna Google|\n",
      "|1.9.42.10341|2024-12-27 08:25:56|Tolong kalau upda...|               null|                null|        1.9.42.10341|176ba960-002f-4e8...|    2|            0|https://play-lh.g...|Pengguna Google|\n",
      "|1.9.42.10341|2024-12-27 08:04:15|Game tidak. Adil ...|               null|                null|        1.9.42.10341|e248e88e-d9c9-44f...|    1|            0|https://play-lh.g...|Pengguna Google|\n",
      "|1.9.42.10341|2024-12-27 07:57:34|Phoveus mohon kas...|               null|                null|        1.9.42.10341|84284b03-4b99-466...|    5|            0|https://play-lh.g...|Pengguna Google|\n",
      "|        null|2024-12-27 07:55:41|           game babi|               null|                null|                null|01cc21e2-73e1-42d...|    1|            0|https://play-lh.g...|Pengguna Google|\n",
      "|1.9.33.10117|2024-12-27 07:55:26|benerin dikit lah...|               null|                null|        1.9.33.10117|15e81357-bff3-4c7...|    1|            0|https://play-lh.g...|Pengguna Google|\n",
      "|1.9.43.10342|2024-12-27 07:53:36|Game GG, Percumah...|               null|                null|        1.9.43.10342|653785ab-2ea2-426...|    1|            6|https://play-lh.g...|Pengguna Google|\n",
      "|1.9.43.10342|2024-12-27 07:39:17|Gw dah capek maen...|               null|                null|        1.9.43.10342|f22bf80d-a1ca-401...|    1|            1|https://play-lh.g...|Pengguna Google|\n",
      "|1.9.42.10341|2024-12-27 07:39:04|moonton anj bantu...|2023-06-19 03:24:15|Dear Hero,\\nTerim...|        1.9.42.10341|773bccd6-c5b0-491...|    1|            6|https://play-lh.g...|Pengguna Google|\n",
      "|1.9.43.10342|2024-12-27 07:29:44|game tidak rame a...|               null|                null|        1.9.43.10342|a626b54e-710b-4cf...|    5|            0|https://play-lh.g...|Pengguna Google|\n",
      "|1.9.43.10342|2024-12-27 07:19:47|DEVELOPER GILA NG...|               null|                null|        1.9.43.10342|63d45eba-7fdc-4c0...|    1|            0|https://play-lh.g...|Pengguna Google|\n",
      "|1.9.42.10341|2024-12-27 07:17:02|halah asu benerin...|               null|                null|        1.9.42.10341|7167a342-6196-482...|    1|            0|https://play-lh.g...|Pengguna Google|\n",
      "|1.9.42.10341|2024-12-27 07:00:13|Game apa ini cok ...|               null|                null|        1.9.42.10341|2e67d747-607f-4d1...|    1|            6|https://play-lh.g...|Pengguna Google|\n",
      "|1.9.33.10117|2024-12-27 06:53:54|Lebih baik milih ...|2024-11-25 06:24:09|Halo Kak,\\nKami b...|        1.9.33.10117|4b2328a2-c038-443...|    1|            0|https://play-lh.g...|Pengguna Google|\n",
      "+------------+-------------------+--------------------+-------------------+--------------------+--------------------+--------------------+-----+-------------+--------------------+---------------+\n",
      "only showing top 20 rows\n",
      "\n"
     ]
    }
   ],
   "source": [
    "from pyspark.sql import SparkSession\n",
    "from pyspark.sql.types import StructType, StructField, StringType, IntegerType\n",
    "import datetime\n",
    "\n",
    "# Inisialisasi Spark session\n",
    "spark = SparkSession.builder.appName(\"GooglePlayReviews\").getOrCreate()\n",
    "\n",
    "# Mengonversi list of dictionaries menjadi DataFrame\n",
    "df_reviews = spark.createDataFrame(total_reviews)\n",
    "\n",
    "# Menyimpan DataFrame ke dalam file CSV\n",
    "# df_reviews.write.csv('reviews.csv', header=True, mode='overwrite')\n",
    "\n",
    "# Menampilkan DataFrame untuk memastikan\n",
    "df_reviews.show()"
   ]
  },
  {
   "cell_type": "markdown",
   "id": "77ca1ca5-acd0-44df-9c9e-d06d89da53d0",
   "metadata": {},
   "source": [
    "### <font face=\"TimesNewRoman\"> Melihat beberapa atribut dari data frame"
   ]
  },
  {
   "cell_type": "code",
   "execution_count": 16,
   "id": "cd3d453c-6719-4ab5-8036-a7876f21c444",
   "metadata": {},
   "outputs": [
    {
     "name": "stderr",
     "output_type": "stream",
     "text": [
      "24/12/28 10:20:45 WARN TaskSetManager: Stage 3 contains a task of very large size (121735 KiB). The maximum recommended task size is 1000 KiB.\n"
     ]
    },
    {
     "name": "stdout",
     "output_type": "stream",
     "text": [
      "+-------------------+--------------------+\n",
      "|                 at|             content|\n",
      "+-------------------+--------------------+\n",
      "|2024-12-27 09:35:39|game yg bikin gw ...|\n",
      "|2024-12-27 09:30:33|game busukkk kalh...|\n",
      "|2024-12-27 09:17:21|Game busuk bikin ...|\n",
      "|2024-12-27 09:06:53|DAH GADA HARAPAN ...|\n",
      "|2024-12-27 08:54:57|Kasih tim yg bene...|\n",
      "+-------------------+--------------------+\n",
      "only showing top 5 rows\n",
      "\n"
     ]
    }
   ],
   "source": [
    "df_reviews_content = df_reviews.select('at','content')\n",
    "df_reviews_content.show(5)"
   ]
  },
  {
   "cell_type": "markdown",
   "id": "850bd16d-9266-4fb4-a407-7c695b12dbc5",
   "metadata": {},
   "source": [
    "### <font face=\"TimesNewRoman\">(b) Menyimpan data frame"
   ]
  },
  {
   "cell_type": "code",
   "execution_count": 17,
   "id": "45c9a1b5-3fc9-4491-a668-a4fbdfe0a75f",
   "metadata": {},
   "outputs": [
    {
     "name": "stderr",
     "output_type": "stream",
     "text": [
      "24/12/28 10:21:49 WARN TaskSetManager: Stage 4 contains a task of very large size (240625 KiB). The maximum recommended task size is 1000 KiB.\n",
      "                                                                                \r"
     ]
    }
   ],
   "source": [
    "# Menggabungkan data menjadi satu file CSV\n",
    "df_reviews.coalesce(1).write.csv('reviews.csv', header=True, mode='overwrite')"
   ]
  },
  {
   "cell_type": "code",
   "execution_count": 14,
   "id": "15d45cfa-ef4a-41a9-bc0a-7e5d20fb7671",
   "metadata": {},
   "outputs": [
    {
     "name": "stdout",
     "output_type": "stream",
     "text": [
      "Pengumpulan_Data.ipynb  Praproses.ipynb  \u001b[0m\u001b[01;34mkamus\u001b[0m/  \u001b[01;34mnotebook\u001b[0m/  \u001b[01;34mreviews.csv\u001b[0m/\n"
     ]
    }
   ],
   "source": [
    "ls"
   ]
  },
  {
   "cell_type": "code",
   "execution_count": 15,
   "id": "bd2741ac-3ac1-4735-91f2-5e5003e9c264",
   "metadata": {},
   "outputs": [],
   "source": [
    "!mv reviews.csv src"
   ]
  },
  {
   "cell_type": "code",
   "execution_count": 17,
   "id": "5166a96b-a325-4d55-8ecd-729099dc981c",
   "metadata": {},
   "outputs": [
    {
     "name": "stdout",
     "output_type": "stream",
     "text": [
      "Pengumpulan_Data.ipynb  Praproses.ipynb  \u001b[0m\u001b[01;34mkamus\u001b[0m/  \u001b[01;34mnotebook\u001b[0m/  \u001b[01;34msrc\u001b[0m/\n"
     ]
    }
   ],
   "source": [
    "ls"
   ]
  },
  {
   "cell_type": "code",
   "execution_count": 18,
   "id": "06959b3a-a0d0-4dc8-b03c-9c8158ff0dc9",
   "metadata": {},
   "outputs": [
    {
     "name": "stdout",
     "output_type": "stream",
     "text": [
      "_SUCCESS  part-00000-b0389b7e-210a-4af8-80c3-72e0d7a74245-c000.csv\n"
     ]
    }
   ],
   "source": [
    "ls src"
   ]
  },
  {
   "cell_type": "code",
   "execution_count": 19,
   "id": "54520b18-ff1a-4639-85d1-b0c83b6ebaff",
   "metadata": {},
   "outputs": [],
   "source": [
    "mv src/'part-00000-b0389b7e-210a-4af8-80c3-72e0d7a74245-c000.csv' 'reviews.csv'"
   ]
  },
  {
   "cell_type": "code",
   "execution_count": 21,
   "id": "cefcb878-f3fc-4fd8-9828-4fb9116a4fc7",
   "metadata": {},
   "outputs": [
    {
     "name": "stdout",
     "output_type": "stream",
     "text": [
      "Pengumpulan_Data.ipynb  Praproses.ipynb  \u001b[0m\u001b[01;34mkamus\u001b[0m/  \u001b[01;34mnotebook\u001b[0m/  reviews.csv  \u001b[01;34msrc\u001b[0m/\n"
     ]
    }
   ],
   "source": [
    "ls"
   ]
  },
  {
   "cell_type": "markdown",
   "id": "9484465f-cc10-4275-87df-f0647efd7ae9",
   "metadata": {},
   "source": [
    "<hr>\n",
    "<b><font face = \"TimeNewRoman\" size = 8; color = \"Navy\">AKHIR DARI PENGUMPULAN DATA</font></b>  <br>\n",
    "<b><font color = \"blue\" face=\"TimesNewRoman\" size=\"4\"> Lanjut Praproses di kernel Praproses </font></b>"
   ]
  }
 ],
 "metadata": {
  "kernelspec": {
   "display_name": "Python 3 (ipykernel)",
   "language": "python",
   "name": "python3"
  },
  "language_info": {
   "codemirror_mode": {
    "name": "ipython",
    "version": 3
   },
   "file_extension": ".py",
   "mimetype": "text/x-python",
   "name": "python",
   "nbconvert_exporter": "python",
   "pygments_lexer": "ipython3",
   "version": "3.10.12"
  }
 },
 "nbformat": 4,
 "nbformat_minor": 5
}
